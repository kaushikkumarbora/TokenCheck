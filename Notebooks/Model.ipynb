{
 "cells": [
  {
   "cell_type": "markdown",
   "metadata": {},
   "source": [
    "# TokenCheck"
   ]
  },
  {
   "cell_type": "code",
   "execution_count": 5,
   "metadata": {},
   "outputs": [],
   "source": [
    "#Import Libraries\n",
    "import numpy as np\n",
    "import pandas as pd\n",
    "from keras.layers import Dense, Embedding, LSTM, SpatialDropout1D, Dropout\n",
    "from keras.models import Sequential\n",
    "from sklearn.feature_extraction.text import CountVectorizer\n",
    "from keras.preprocessing.text import Tokenizer\n",
    "from keras.preprocessing.sequence import pad_sequences\n",
    "from sklearn.model_selection import train_test_split\n",
    "from keras.utils.np_utils import to_categorical\n",
    "from keras.callbacks import EarlyStopping\n",
    "import matplotlib.pyplot as plt\n",
    "%matplotlib inline\n",
    "from pandas.plotting import table"
   ]
  },
  {
   "cell_type": "markdown",
   "metadata": {},
   "source": [
    "### Defining functions"
   ]
  },
  {
   "cell_type": "code",
   "execution_count": 6,
   "metadata": {},
   "outputs": [],
   "source": [
    "def label(df):    \n",
    "    # label data\n",
    "    df['LABEL'] = 0\n",
    "    df.loc[df['CATEGORY'] == 0, 'LABEL'] = 0\n",
    "    df.loc[df['CATEGORY'] != 0, 'LABEL'] = 1\n",
    "    \n",
    "def preprocess(df):\n",
    "    n_most_common_words = 8000 #8000\n",
    "    max_len = 142\n",
    "\n",
    "    \n",
    "    tokenizer = Tokenizer(num_words=n_most_common_words, lower=False)\n",
    "    tokenizer.fit_on_texts(df['OPCODE'].values)\n",
    "    sequences = tokenizer.texts_to_sequences(df['OPCODE'].values)\n",
    "    word_index = tokenizer.word_index\n",
    "    X = pad_sequences(sequences, maxlen=max_len)\n",
    "    return X\n",
    "\n",
    "def dftoXY(df):\n",
    "    X_test = preprocess(df)\n",
    "    label(df)\n",
    "    print(pd.value_counts(df['LABEL']))\n",
    "    y_test = to_categorical(df['LABEL'], num_classes=2)\n",
    "    return X_test, y_test    \n",
    "\n",
    "def XandY(posdf, negdf):\n",
    "    dfset = pd.concat([posdf, negdf])\n",
    "    dfset = dfset.sample(frac=1, random_state=39, replace=False)\n",
    "    dfset['LABEL'] = 0\n",
    "    dfset.loc[dfset['CATEGORY'] == 0, 'LABEL'] = 0\n",
    "    dfset.loc[dfset['CATEGORY'] != 0, 'LABEL'] = 1\n",
    "    X, y = dftoXY(dfset)\n",
    "\n",
    "    print('Shape of X: {}'.format(X.shape))\n",
    "\n",
    "    y_labels = np.expand_dims(np.array(np.argmax(y, axis=1)), axis=1)\n",
    "    print('Shape of y: {}'.format(y_labels.shape))\n",
    "\n",
    "    return X, y_labels"
   ]
  },
  {
   "cell_type": "markdown",
   "metadata": {},
   "source": [
    "### Loading the dataset"
   ]
  },
  {
   "cell_type": "code",
   "execution_count": 7,
   "metadata": {},
   "outputs": [
    {
     "data": {
      "text/html": [
       "<div>\n",
       "<style scoped>\n",
       "    .dataframe tbody tr th:only-of-type {\n",
       "        vertical-align: middle;\n",
       "    }\n",
       "\n",
       "    .dataframe tbody tr th {\n",
       "        vertical-align: top;\n",
       "    }\n",
       "\n",
       "    .dataframe thead th {\n",
       "        text-align: right;\n",
       "    }\n",
       "</style>\n",
       "<table border=\"1\" class=\"dataframe\">\n",
       "  <thead>\n",
       "    <tr style=\"text-align: right;\">\n",
       "      <th></th>\n",
       "      <th>OPCODE</th>\n",
       "      <th>CATEGORY</th>\n",
       "    </tr>\n",
       "  </thead>\n",
       "  <tbody>\n",
       "    <tr>\n",
       "      <th>0</th>\n",
       "      <td>64 64 54 64 36 14 65 59 64 35 92 113 5 67 20 9...</td>\n",
       "      <td>0</td>\n",
       "    </tr>\n",
       "    <tr>\n",
       "      <th>1</th>\n",
       "      <td>64 64 54 64 36 14 65 59 64 35 92 113 5 67 20 9...</td>\n",
       "      <td>0</td>\n",
       "    </tr>\n",
       "    <tr>\n",
       "      <th>2</th>\n",
       "      <td>64 64 54 64 36 14 65 59 67 92 64 35 5 20 67 98...</td>\n",
       "      <td>0</td>\n",
       "    </tr>\n",
       "    <tr>\n",
       "      <th>3</th>\n",
       "      <td>64 64 54 64 36 14 65 59 67 92 64 35 5 20 67 98...</td>\n",
       "      <td>0</td>\n",
       "    </tr>\n",
       "    <tr>\n",
       "      <th>4</th>\n",
       "      <td>64 64 54 36 19 65 59 67 92 64 35 5 20 67 98 18...</td>\n",
       "      <td>0</td>\n",
       "    </tr>\n",
       "  </tbody>\n",
       "</table>\n",
       "</div>"
      ],
      "text/plain": [
       "                                              OPCODE  CATEGORY\n",
       "0  64 64 54 64 36 14 65 59 64 35 92 113 5 67 20 9...         0\n",
       "1  64 64 54 64 36 14 65 59 64 35 92 113 5 67 20 9...         0\n",
       "2  64 64 54 64 36 14 65 59 67 92 64 35 5 20 67 98...         0\n",
       "3  64 64 54 64 36 14 65 59 67 92 64 35 5 20 67 98...         0\n",
       "4  64 64 54 36 19 65 59 67 92 64 35 5 20 67 98 18...         0"
      ]
     },
     "execution_count": 7,
     "metadata": {},
     "output_type": "execute_result"
    }
   ],
   "source": [
    "data = pd.read_csv(\"out.csv\")\n",
    "data.head()"
   ]
  },
  {
   "cell_type": "markdown",
   "metadata": {},
   "source": [
    "### Checking the target classes"
   ]
  },
  {
   "cell_type": "code",
   "execution_count": 8,
   "metadata": {
    "scrolled": true
   },
   "outputs": [
    {
     "data": {
      "text/plain": [
       "0    155667\n",
       "1      9985\n",
       "Name: CATEGORY, dtype: int64"
      ]
     },
     "execution_count": 8,
     "metadata": {},
     "output_type": "execute_result"
    }
   ],
   "source": [
    "pd.value_counts(data['CATEGORY'])"
   ]
  },
  {
   "cell_type": "markdown",
   "metadata": {},
   "source": [
    "### Plot unbalanced"
   ]
  },
  {
   "cell_type": "code",
   "execution_count": 9,
   "metadata": {},
   "outputs": [
    {
     "data": {
      "image/png": "[encoded data removed]",
      "text/plain": [
       "<Figure size 576x576 with 1 Axes>"
      ]
     },
     "metadata": {
      "needs_background": "light"
     },
     "output_type": "display_data"
    }
   ],
   "source": [
    "fig = plt.figure()\n",
    "count_classes = pd.value_counts(data['CATEGORY'], sort = True).sort_index()\n",
    "count_classes.plot(kind = 'bar')\n",
    "plt.title(\"Vulnerability Class Histogram\")\n",
    "plt.xlabel(\"Class\")\n",
    "plt.ylabel(\"Frequency\")\n",
    "fig.set_size_inches(8, 8)\n",
    "plt.show()\n",
    "# fig.savefig('./figures/clean_train_unbalanced_distr.png', dpi=300) #, bbox_inches='tight'"
   ]
  },
  {
   "cell_type": "markdown",
   "metadata": {},
   "source": [
    "### Dividing data into vulnerable and non-vulnerable"
   ]
  },
  {
   "cell_type": "code",
   "execution_count": 10,
   "metadata": {},
   "outputs": [],
   "source": [
    "shuffled = data\n",
    "\n",
    "n = shuffled[shuffled['CATEGORY'] == 0] # no vulnerabilities\n",
    "s = shuffled[shuffled['CATEGORY'] == 1] # suicidal"
   ]
  },
  {
   "cell_type": "markdown",
   "metadata": {},
   "source": [
    "### Plot two class unbalanced"
   ]
  },
  {
   "cell_type": "code",
   "execution_count": 11,
   "metadata": {},
   "outputs": [
    {
     "name": "stderr",
     "output_type": "stream",
     "text": [
      "E:\\Softwares\\anaconda\\envs\\my-rdkit-env\\lib\\site-packages\\seaborn\\_decorators.py:43: FutureWarning: Pass the following variable as a keyword arg: x. From version 0.12, the only valid positional argument will be `data`, and passing other arguments without an explicit keyword will result in an error or misinterpretation.\n",
      "  FutureWarning\n"
     ]
    },
    {
     "data": {
      "image/png": "[encoded data removed]",
      "text/plain": [
       "<Figure size 576x576 with 1 Axes>"
      ]
     },
     "metadata": {
      "needs_background": "light"
     },
     "output_type": "display_data"
    }
   ],
   "source": [
    "concated = pd.concat([n,s], ignore_index=True)\n",
    "\n",
    "concated = concated.reindex(np.random.permutation(concated.index))\n",
    "concated['LABEL'] = 0\n",
    "\n",
    "concated.loc[concated['CATEGORY'] == 0, 'LABEL'] = 0\n",
    "concated.loc[concated['CATEGORY'] != 0, 'LABEL'] = 1\n",
    "\n",
    "import seaborn as sns\n",
    "fig = plt.figure()\n",
    "colors = [\"#A1CAF1\", \"#E30022\"]\n",
    "\n",
    "sns.countplot('LABEL', data=concated, palette=colors)\n",
    "plt.title('Class Distributions \\n (0 = Not vulnerable || 1 = Vulnerable)', fontsize=14)\n",
    "fig.set_size_inches(8, 8)"
   ]
  },
  {
   "cell_type": "markdown",
   "metadata": {},
   "source": [
    "### Dividing data into train, validation, and test"
   ]
  },
  {
   "cell_type": "code",
   "execution_count": 12,
   "metadata": {},
   "outputs": [
    {
     "name": "stdout",
     "output_type": "stream",
     "text": [
      "9985\n",
      "6390\n",
      "1598\n",
      "1997\n"
     ]
    }
   ],
   "source": [
    "positives = pd.concat([s])\n",
    "positives_shuf = positives.sample(frac=1, random_state=39, replace=False)\n",
    "print(len(positives_shuf))\n",
    "\n",
    "proportion_train = 0.64 #0.7 \n",
    "proportion_val = 0.16 #0.1 \n",
    "proportion_test = 0.2 #0.20\n",
    "\n",
    "num_pos_train = round(len(positives_shuf) * proportion_train)\n",
    "num_pos_val = round(len(positives_shuf) * proportion_val)\n",
    "\n",
    "pos_train = positives_shuf.iloc[0:num_pos_train] \n",
    "pos_val = positives_shuf.iloc[num_pos_train:(num_pos_train+num_pos_val)]\n",
    "pos_test = positives_shuf.iloc[(num_pos_train+num_pos_val):]\n",
    "\n",
    "print(len(pos_train))\n",
    "print(len(pos_val))\n",
    "print(len(pos_test))"
   ]
  },
  {
   "cell_type": "code",
   "execution_count": 13,
   "metadata": {},
   "outputs": [
    {
     "name": "stdout",
     "output_type": "stream",
     "text": [
      "155667\n",
      "64000\n",
      "16000\n",
      "20000\n"
     ]
    }
   ],
   "source": [
    "n_shuf = n.sample(frac=1, random_state=39, replace=False)\n",
    "print(len(n_shuf))\n",
    "\n",
    "num_neg_train = round(100000*0.64)\n",
    "\n",
    "num_neg_val = round(((num_neg_train)/proportion_train)*proportion_val)\n",
    "num_neg_test = round(((num_neg_train)/proportion_train)*proportion_test)\n",
    "\n",
    "neg_train = n_shuf.iloc[0:num_neg_train]\n",
    "neg_val = n_shuf.iloc[num_neg_train:(num_neg_train+num_neg_val)]\n",
    "neg_test = n_shuf.iloc[(num_neg_train+num_neg_val):(num_neg_train+num_neg_val+num_neg_test)]\n",
    "\n",
    "\n",
    "print(len(neg_train))\n",
    "print(len(neg_val))\n",
    "print(len(neg_test))"
   ]
  },
  {
   "cell_type": "markdown",
   "metadata": {},
   "source": [
    "### Resampling samples"
   ]
  },
  {
   "cell_type": "raw",
   "metadata": {},
   "source": [
    "df_train = pd.concat([pos_train, neg_train])\n",
    "df_train = df_train.sample(frac=1, random_state=39, replace=False)\n",
    "\n",
    "df_train['LABEL'] = 0\n",
    "\n",
    "\n",
    "df_train.loc[df_train['CATEGORY'] == 0, 'LABEL'] = 0\n",
    "df_train.loc[df_train['CATEGORY'] != 1, 'LABEL'] = 1\n",
    "\n",
    "\n",
    "X_train, y_train = dftoXY(df_train)\n",
    "\n",
    "print('Shape of X: {}'.format(X_train.shape))\n",
    "\n",
    "\n",
    "ytrain_labels = np.expand_dims(np.array(np.argmax(y_train, axis=1)), axis=1)\n",
    "print('Shape of y: {}'.format(ytrain_labels.shape))"
   ]
  },
  {
   "cell_type": "raw",
   "metadata": {},
   "source": [
    "df_val = pd.concat([pos_val, neg_val])\n",
    "df_val = df_val.sample(frac=1, random_state=39, replace=False)\n",
    "\n",
    "df_val['LABEL'] = 0\n",
    "\n",
    "\n",
    "df_val.loc[df_val['CATEGORY'] == '1 0 0 0', 'LABEL'] = 0\n",
    "df_val.loc[df_val['CATEGORY'] != '1 0 0 0', 'LABEL'] = 1\n",
    "\n",
    "\n",
    "X_val, y_val = dftoXY(df_val)\n",
    "\n",
    "print('Shape of X: {}'.format(X_val.shape))\n",
    "\n",
    "\n",
    "yval_labels = np.expand_dims(np.array(np.argmax(y_val, axis=1)), axis=1)\n",
    "print('Shape of y: {}'.format(yval_labels.shape))"
   ]
  },
  {
   "cell_type": "raw",
   "metadata": {},
   "source": [
    "df_test = pd.concat([pos_test, neg_test])\n",
    "df_test = df_test.sample(frac=1, random_state=39, replace=False)\n",
    "\n",
    "df_test['LABEL'] = 0\n",
    "\n",
    "\n",
    "df_test.loc[df_test['CATEGORY'] == '1 0 0 0', 'LABEL'] = 0\n",
    "df_test.loc[df_test['CATEGORY'] != '1 0 0 0', 'LABEL'] = 1\n",
    "\n",
    "\n",
    "X_test, y_test = dftoXY(df_test)\n",
    "\n",
    "print('Shape of X: {}'.format(X_test.shape))\n",
    "\n",
    "\n",
    "ytest_labels = np.expand_dims(np.array(np.argmax(y_test, axis=1)), axis=1)\n",
    "print('Shape of y: {}'.format(ytest_labels.shape))"
   ]
  },
  {
   "cell_type": "markdown",
   "metadata": {},
   "source": [
    "### Resampling samples"
   ]
  },
  {
   "cell_type": "code",
   "execution_count": 14,
   "metadata": {},
   "outputs": [
    {
     "name": "stdout",
     "output_type": "stream",
     "text": [
      "Found 142 unique tokens.\n",
      "0    64000\n",
      "1     6390\n",
      "Name: LABEL, dtype: int64\n",
      "Shape of X: (70390, 142)\n",
      "Shape of y: (70390, 1)\n",
      "Found 142 unique tokens.\n",
      "0    16000\n",
      "1     1598\n",
      "Name: LABEL, dtype: int64\n",
      "Shape of X: (17598, 142)\n",
      "Shape of y: (17598, 1)\n",
      "Found 142 unique tokens.\n",
      "0    20000\n",
      "1     1997\n",
      "Name: LABEL, dtype: int64\n",
      "Shape of X: (21997, 142)\n",
      "Shape of y: (21997, 1)\n"
     ]
    }
   ],
   "source": [
    "X_train, ytrain_labels = XandY(pos_train, neg_train)\n",
    "X_val, yval_labels = XandY(pos_val, neg_val)\n",
    "X_test, ytest_labels = XandY(pos_test, neg_test)"
   ]
  },
  {
   "cell_type": "code",
   "execution_count": 40,
   "metadata": {},
   "outputs": [
    {
     "data": {
      "text/plain": [
       "array([[ 17,   7,  15, ...,  80, 105,  70],\n",
       "       [  2,   5,   9, ...,  80,   1,  45],\n",
       "       [ 23,  14,   3, ...,  85,  96,  62],\n",
       "       ...,\n",
       "       [  1,   3,  24, ..., 126,  98,  34],\n",
       "       [  4,  13,   1, ...,  34,  63,  75],\n",
       "       [  1,  12,   6, ...,  37,  31,  45]])"
      ]
     },
     "execution_count": 40,
     "metadata": {},
     "output_type": "execute_result"
    }
   ],
   "source": [
    "X_train"
   ]
  },
  {
   "cell_type": "code",
   "execution_count": 15,
   "metadata": {},
   "outputs": [
    {
     "name": "stdout",
     "output_type": "stream",
     "text": [
      "Number transactions X_train dataset:  (70390, 142)\n",
      "Number transactions y_train dataset:  (70390, 1)\n",
      "Number transactions X_val dataset:  (17598, 142)\n",
      "Number transactions y_val dataset:  (17598, 1)\n",
      "Number transactions X_test dataset:  (21997, 142)\n",
      "Number transactions y_test dataset:  (21997, 1)\n",
      "Before OverSampling, counts of label '1': [6390]\n",
      "Before OverSampling, counts of label '0': [64000]\n",
      "Before OverSampling, counts of label '1': [1598]\n",
      "Before OverSampling, counts of label '0': [16000]\n",
      "Before OverSampling, counts of label '1': [1997]\n",
      "Before OverSampling, counts of label '0': [20000] \n",
      "\n"
     ]
    }
   ],
   "source": [
    "print(\"Number transactions X_train dataset: \", X_train.shape)\n",
    "print(\"Number transactions y_train dataset: \", ytrain_labels.shape)\n",
    "print(\"Number transactions X_val dataset: \", X_val.shape)\n",
    "print(\"Number transactions y_val dataset: \", yval_labels.shape)\n",
    "print(\"Number transactions X_test dataset: \", X_test.shape)\n",
    "print(\"Number transactions y_test dataset: \", ytest_labels.shape)\n",
    "\n",
    "print(\"Before OverSampling, counts of label '1': {}\".format(sum(ytrain_labels==1)))\n",
    "print(\"Before OverSampling, counts of label '0': {}\".format(sum(ytrain_labels==0)))\n",
    "print(\"Before OverSampling, counts of label '1': {}\".format(sum(yval_labels==1)))\n",
    "print(\"Before OverSampling, counts of label '0': {}\".format(sum(yval_labels==0)))\n",
    "print(\"Before OverSampling, counts of label '1': {}\".format(sum(ytest_labels==1)))\n",
    "print(\"Before OverSampling, counts of label '0': {} \\n\".format(sum(ytest_labels==0)))"
   ]
  },
  {
   "cell_type": "code",
   "execution_count": 16,
   "metadata": {},
   "outputs": [],
   "source": [
    "from imblearn.over_sampling import SMOTE\n",
    "\n",
    "sm = SMOTE(random_state=39)\n",
    "X_train_res, y_train_res = sm.fit_sample(X_train, ytrain_labels.ravel())\n",
    "X_val_res, y_val_res = sm.fit_sample(X_val, yval_labels.ravel())\n",
    "X_test_res, y_test_res = sm.fit_sample(X_test, ytest_labels.ravel())"
   ]
  },
  {
   "cell_type": "code",
   "execution_count": 17,
   "metadata": {},
   "outputs": [
    {
     "name": "stdout",
     "output_type": "stream",
     "text": [
      "After OverSampling, the shape of train_X: (128000, 142)\n",
      "After OverSampling, the shape of train_y: (128000,)\n",
      "After OverSampling, the shape of val_X: (32000, 142)\n",
      "After OverSampling, the shape of val_y: (32000,)\n",
      "After OverSampling, the shape of test_X: (40000, 142)\n",
      "After OverSampling, the shape of test_y: (40000,) \n",
      "\n",
      "After OverSampling, counts of train label '1': 64000\n",
      "After OverSampling, counts of train label '0': 64000\n",
      "After OverSampling, counts of val label '1': 16000\n",
      "After OverSampling, counts of val label '0': 16000\n",
      "After OverSampling, counts of test label '1': 20000\n",
      "After OverSampling, counts of test label '0': 20000\n"
     ]
    }
   ],
   "source": [
    "print('After OverSampling, the shape of train_X: {}'.format(X_train_res.shape))\n",
    "print('After OverSampling, the shape of train_y: {}'.format(y_train_res.shape))\n",
    "print('After OverSampling, the shape of val_X: {}'.format(X_val_res.shape))\n",
    "print('After OverSampling, the shape of val_y: {}'.format(y_val_res.shape))\n",
    "print('After OverSampling, the shape of test_X: {}'.format(X_test_res.shape))\n",
    "print('After OverSampling, the shape of test_y: {} \\n'.format(y_test_res.shape))\n",
    "\n",
    "print(\"After OverSampling, counts of train label '1': {}\".format(sum(y_train_res==1)))\n",
    "print(\"After OverSampling, counts of train label '0': {}\".format(sum(y_train_res==0)))\n",
    "print(\"After OverSampling, counts of val label '1': {}\".format(sum(y_val_res==1)))\n",
    "print(\"After OverSampling, counts of val label '0': {}\".format(sum(y_val_res==0)))\n",
    "print(\"After OverSampling, counts of test label '1': {}\".format(sum(y_test_res==1)))\n",
    "print(\"After OverSampling, counts of test label '0': {}\".format(sum(y_test_res==0)))"
   ]
  },
  {
   "cell_type": "markdown",
   "metadata": {},
   "source": [
    "### Plot two class balanced"
   ]
  },
  {
   "cell_type": "code",
   "execution_count": 18,
   "metadata": {},
   "outputs": [],
   "source": [
    "entire_dataset = np.concatenate((y_train_res,y_val_res,y_test_res))"
   ]
  },
  {
   "cell_type": "code",
   "execution_count": 19,
   "metadata": {},
   "outputs": [
    {
     "name": "stderr",
     "output_type": "stream",
     "text": [
      "E:\\Softwares\\anaconda\\envs\\my-rdkit-env\\lib\\site-packages\\seaborn\\_decorators.py:43: FutureWarning: Pass the following variable as a keyword arg: x. From version 0.12, the only valid positional argument will be `data`, and passing other arguments without an explicit keyword will result in an error or misinterpretation.\n",
      "  FutureWarning\n"
     ]
    },
    {
     "data": {
      "image/png": "[encoded data removed]",
      "text/plain": [
       "<Figure size 576x576 with 1 Axes>"
      ]
     },
     "metadata": {
      "needs_background": "light"
     },
     "output_type": "display_data"
    }
   ],
   "source": [
    "import seaborn as sns\n",
    "fig = plt.figure()\n",
    "colors = [\"#A1CAF1\", \"#E30022\"]\n",
    "\n",
    "sns.countplot(0, data=pd.DataFrame(entire_dataset), palette=colors)\n",
    "plt.title('Class Distributions \\n (0 = Not vulnerable || 1 = Vulnerable)', fontsize=14)\n",
    "fig.set_size_inches(8, 8)"
   ]
  },
  {
   "cell_type": "markdown",
   "metadata": {},
   "source": [
    "### Multiclass LSTM Model"
   ]
  },
  {
   "cell_type": "code",
   "execution_count": 17,
   "metadata": {},
   "outputs": [],
   "source": [
    "epochs = 150\n",
    "emb_dim = 128\n",
    "batch_size = 256 \n"
   ]
  },
  {
   "cell_type": "code",
   "execution_count": 18,
   "metadata": {},
   "outputs": [],
   "source": [
    "import keras\n",
    "keras.backend.clear_session()"
   ]
  },
  {
   "cell_type": "code",
   "execution_count": 19,
   "metadata": {},
   "outputs": [
    {
     "name": "stdout",
     "output_type": "stream",
     "text": [
      "((128000, 142), (128000, 2), (32000, 142), (32000, 2), (40000, 142), (40000, 2))\n"
     ]
    }
   ],
   "source": [
    "ytrainres_cat = to_categorical(y_train_res, num_classes=2)\n",
    "yvalres_cat = to_categorical(y_val_res, num_classes=2)\n",
    "ytestres_cat = to_categorical(y_test_res, num_classes=2)\n",
    "\n",
    "print((X_train_res.shape, ytrainres_cat.shape, X_val_res.shape, yvalres_cat.shape, X_test_res.shape, ytestres_cat.shape))"
   ]
  },
  {
   "cell_type": "code",
   "execution_count": 20,
   "metadata": {
    "scrolled": true
   },
   "outputs": [
    {
     "name": "stdout",
     "output_type": "stream",
     "text": [
      "Model: \"sequential\"\n",
      "_________________________________________________________________\n",
      "Layer (type)                 Output Shape              Param #   \n",
      "=================================================================\n",
      "embedding (Embedding)        (None, 142, 128)          128000    \n",
      "_________________________________________________________________\n",
      "spatial_dropout1d (SpatialDr (None, 142, 128)          0         \n",
      "_________________________________________________________________\n",
      "lstm (LSTM)                  (None, 64)                49408     \n",
      "_________________________________________________________________\n",
      "dense (Dense)                (None, 2)                 130       \n",
      "=================================================================\n",
      "Total params: 177,538\n",
      "Trainable params: 177,538\n",
      "Non-trainable params: 0\n",
      "_________________________________________________________________\n",
      "None\n",
      "Epoch 1/150\n",
      "500/500 [==============================] - 217s 434ms/step - loss: 0.4162 - acc: 0.8109 - val_loss: 0.3115 - val_acc: 0.8738\n",
      "Epoch 2/150\n",
      "500/500 [==============================] - 204s 408ms/step - loss: 0.3148 - acc: 0.8687 - val_loss: 0.2593 - val_acc: 0.9045\n",
      "Epoch 3/150\n",
      "500/500 [==============================] - 207s 415ms/step - loss: 0.2847 - acc: 0.8845 - val_loss: 0.2590 - val_acc: 0.8988\n",
      "Epoch 4/150\n",
      "500/500 [==============================] - 203s 407ms/step - loss: 0.2609 - acc: 0.8955 - val_loss: 0.2140 - val_acc: 0.9158\n",
      "Epoch 5/150\n",
      "500/500 [==============================] - 204s 409ms/step - loss: 0.2418 - acc: 0.9061 - val_loss: 0.1971 - val_acc: 0.9295\n",
      "Epoch 6/150\n",
      "500/500 [==============================] - 205s 410ms/step - loss: 0.2305 - acc: 0.9112 - val_loss: 0.1916 - val_acc: 0.9299\n",
      "Epoch 7/150\n",
      "500/500 [==============================] - 205s 409ms/step - loss: 0.2198 - acc: 0.9169 - val_loss: 0.1881 - val_acc: 0.9262\n",
      "Epoch 8/150\n",
      "500/500 [==============================] - 204s 408ms/step - loss: 0.2147 - acc: 0.9200 - val_loss: 0.1898 - val_acc: 0.9333\n",
      "Epoch 9/150\n",
      "500/500 [==============================] - 204s 408ms/step - loss: 0.2072 - acc: 0.9230 - val_loss: 0.1741 - val_acc: 0.9400\n",
      "Epoch 10/150\n",
      "500/500 [==============================] - 204s 408ms/step - loss: 0.1983 - acc: 0.9272 - val_loss: 0.1757 - val_acc: 0.9369\n",
      "Epoch 11/150\n",
      "500/500 [==============================] - 206s 413ms/step - loss: 0.1931 - acc: 0.9304 - val_loss: 0.1909 - val_acc: 0.9280\n",
      "Epoch 12/150\n",
      "500/500 [==============================] - 205s 410ms/step - loss: 0.1909 - acc: 0.9299 - val_loss: 0.1676 - val_acc: 0.9382\n",
      "Epoch 13/150\n",
      "500/500 [==============================] - 205s 410ms/step - loss: 0.1847 - acc: 0.9331 - val_loss: 0.1687 - val_acc: 0.9423\n",
      "Epoch 14/150\n",
      "500/500 [==============================] - 204s 409ms/step - loss: 0.1805 - acc: 0.9349 - val_loss: 0.1718 - val_acc: 0.9449\n",
      "Epoch 15/150\n",
      "500/500 [==============================] - 206s 411ms/step - loss: 0.1779 - acc: 0.9352 - val_loss: 0.1678 - val_acc: 0.9394\n",
      "Epoch 16/150\n",
      "500/500 [==============================] - 204s 408ms/step - loss: 0.1754 - acc: 0.9375 - val_loss: 0.1716 - val_acc: 0.9404\n",
      "Epoch 17/150\n",
      "500/500 [==============================] - 205s 410ms/step - loss: 0.1724 - acc: 0.9381 - val_loss: 0.1649 - val_acc: 0.9441\n",
      "Epoch 18/150\n",
      "500/500 [==============================] - 221s 442ms/step - loss: 0.1706 - acc: 0.9390 - val_loss: 0.1629 - val_acc: 0.9454\n",
      "Epoch 19/150\n",
      "500/500 [==============================] - 217s 433ms/step - loss: 0.1677 - acc: 0.9403 - val_loss: 0.1580 - val_acc: 0.9447\n",
      "Epoch 20/150\n",
      "500/500 [==============================] - 217s 433ms/step - loss: 0.1667 - acc: 0.9403 - val_loss: 0.1724 - val_acc: 0.9430\n",
      "Epoch 21/150\n",
      "500/500 [==============================] - 215s 431ms/step - loss: 0.1643 - acc: 0.9415 - val_loss: 0.1667 - val_acc: 0.9433\n",
      "Epoch 22/150\n",
      "500/500 [==============================] - 209s 418ms/step - loss: 0.1648 - acc: 0.9417 - val_loss: 0.1745 - val_acc: 0.9406\n",
      "Epoch 23/150\n",
      "500/500 [==============================] - 227s 455ms/step - loss: 0.1617 - acc: 0.9431 - val_loss: 0.1626 - val_acc: 0.9462\n",
      "Epoch 24/150\n",
      "500/500 [==============================] - 199s 399ms/step - loss: 0.1662 - acc: 0.9410 - val_loss: 0.1749 - val_acc: 0.9415\n",
      "Epoch 25/150\n",
      "500/500 [==============================] - 206s 412ms/step - loss: 0.1617 - acc: 0.9427 - val_loss: 0.1882 - val_acc: 0.9307\n",
      "Epoch 26/150\n",
      "500/500 [==============================] - 212s 424ms/step - loss: 0.1590 - acc: 0.9440 - val_loss: 0.1673 - val_acc: 0.9445\n",
      "Epoch 27/150\n",
      "500/500 [==============================] - 208s 417ms/step - loss: 0.1569 - acc: 0.9447 - val_loss: 0.1776 - val_acc: 0.9354\n",
      "Epoch 28/150\n",
      "500/500 [==============================] - 206s 413ms/step - loss: 0.1560 - acc: 0.9454 - val_loss: 0.1795 - val_acc: 0.9382\n",
      "Epoch 29/150\n",
      "500/500 [==============================] - 203s 406ms/step - loss: 0.1563 - acc: 0.9454 - val_loss: 0.1646 - val_acc: 0.9450\n",
      "Epoch 30/150\n",
      "500/500 [==============================] - 205s 409ms/step - loss: 0.1553 - acc: 0.9461 - val_loss: 0.1663 - val_acc: 0.9425\n",
      "Epoch 31/150\n",
      "500/500 [==============================] - 204s 407ms/step - loss: 0.1538 - acc: 0.9462 - val_loss: 0.1739 - val_acc: 0.9414\n",
      "Epoch 32/150\n",
      "500/500 [==============================] - 20018s 40s/step - loss: 0.1532 - acc: 0.9464 - val_loss: 0.2035 - val_acc: 0.9297\n",
      "Epoch 33/150\n",
      "500/500 [==============================] - 213s 425ms/step - loss: 0.1523 - acc: 0.9467 - val_loss: 0.1723 - val_acc: 0.9420\n",
      "Epoch 34/150\n",
      "500/500 [==============================] - 239s 477ms/step - loss: 0.1508 - acc: 0.9467 - val_loss: 0.1704 - val_acc: 0.9430\n",
      "Epoch 35/150\n",
      "500/500 [==============================] - 220s 440ms/step - loss: 0.1513 - acc: 0.9471 - val_loss: 0.2017 - val_acc: 0.9358\n",
      "Epoch 36/150\n",
      "500/500 [==============================] - 218s 437ms/step - loss: 0.1510 - acc: 0.9476 - val_loss: 0.1935 - val_acc: 0.9346\n",
      "Epoch 37/150\n",
      "500/500 [==============================] - 206s 411ms/step - loss: 0.1494 - acc: 0.9476 - val_loss: 0.1804 - val_acc: 0.9330\n",
      "Epoch 38/150\n",
      "500/500 [==============================] - 205s 411ms/step - loss: 0.1486 - acc: 0.9482 - val_loss: 0.1715 - val_acc: 0.9396\n",
      "Epoch 39/150\n",
      "500/500 [==============================] - 205s 411ms/step - loss: 0.1483 - acc: 0.9484 - val_loss: 0.1718 - val_acc: 0.9431\n",
      "Epoch 40/150\n",
      "500/500 [==============================] - 205s 410ms/step - loss: 0.1477 - acc: 0.9490 - val_loss: 0.2205 - val_acc: 0.9087\n",
      "Epoch 41/150\n",
      "500/500 [==============================] - 205s 410ms/step - loss: 0.1467 - acc: 0.9492 - val_loss: 0.2849 - val_acc: 0.9107\n",
      "Epoch 42/150\n",
      "500/500 [==============================] - 205s 411ms/step - loss: 0.1471 - acc: 0.9492 - val_loss: 0.2328 - val_acc: 0.9118\n",
      "Epoch 43/150\n",
      "500/500 [==============================] - 205s 410ms/step - loss: 0.1458 - acc: 0.9491 - val_loss: 0.1999 - val_acc: 0.9206\n",
      "Epoch 44/150\n",
      "500/500 [==============================] - 195s 389ms/step - loss: 0.1467 - acc: 0.9494 - val_loss: 0.2323 - val_acc: 0.9121\n",
      "Epoch 45/150\n",
      "500/500 [==============================] - 194s 388ms/step - loss: 0.1460 - acc: 0.9493 - val_loss: 0.2245 - val_acc: 0.9148\n",
      "Epoch 46/150\n",
      "500/500 [==============================] - 195s 390ms/step - loss: 0.1456 - acc: 0.9501 - val_loss: 0.2161 - val_acc: 0.9160\n",
      "Epoch 47/150\n",
      "500/500 [==============================] - 192s 384ms/step - loss: 0.1455 - acc: 0.9488 - val_loss: 0.2309 - val_acc: 0.9099\n",
      "Epoch 48/150\n",
      "500/500 [==============================] - 193s 385ms/step - loss: 0.1443 - acc: 0.9497 - val_loss: 0.1922 - val_acc: 0.9195\n",
      "Epoch 49/150\n",
      "500/500 [==============================] - 194s 389ms/step - loss: 0.1447 - acc: 0.9498 - val_loss: 0.2111 - val_acc: 0.9141\n",
      "Epoch 50/150\n",
      "500/500 [==============================] - 193s 387ms/step - loss: 0.1437 - acc: 0.9498 - val_loss: 0.1981 - val_acc: 0.9189\n",
      "Epoch 51/150\n",
      "500/500 [==============================] - 204s 407ms/step - loss: 0.1433 - acc: 0.9504 - val_loss: 0.1536 - val_acc: 0.9480\n",
      "Epoch 52/150\n",
      "500/500 [==============================] - 211s 422ms/step - loss: 0.1432 - acc: 0.9503 - val_loss: 0.2479 - val_acc: 0.9155\n",
      "Epoch 53/150\n",
      "500/500 [==============================] - 211s 423ms/step - loss: 0.1415 - acc: 0.9508 - val_loss: 0.2043 - val_acc: 0.9165\n"
     ]
    },
    {
     "name": "stdout",
     "output_type": "stream",
     "text": [
      "Epoch 54/150\n",
      "500/500 [==============================] - 212s 425ms/step - loss: 0.1426 - acc: 0.9501 - val_loss: 0.1992 - val_acc: 0.9202\n",
      "Epoch 55/150\n",
      "500/500 [==============================] - 215s 431ms/step - loss: 0.1424 - acc: 0.9503 - val_loss: 0.2263 - val_acc: 0.9150\n",
      "Epoch 56/150\n",
      "500/500 [==============================] - 205s 409ms/step - loss: 0.1414 - acc: 0.9511 - val_loss: 0.1887 - val_acc: 0.9185\n",
      "Epoch 57/150\n",
      "500/500 [==============================] - 197s 393ms/step - loss: 0.1407 - acc: 0.9509 - val_loss: 0.1713 - val_acc: 0.9444\n",
      "Epoch 58/150\n",
      "500/500 [==============================] - 216s 432ms/step - loss: 0.1407 - acc: 0.9511 - val_loss: 0.2374 - val_acc: 0.9158\n",
      "Epoch 59/150\n",
      "500/500 [==============================] - 216s 433ms/step - loss: 0.1410 - acc: 0.9508 - val_loss: 0.2030 - val_acc: 0.9205\n",
      "Epoch 60/150\n",
      "500/500 [==============================] - 211s 422ms/step - loss: 0.1395 - acc: 0.9517 - val_loss: 0.2357 - val_acc: 0.9089\n",
      "Epoch 61/150\n",
      "500/500 [==============================] - 200s 400ms/step - loss: 0.1399 - acc: 0.9514 - val_loss: 0.1931 - val_acc: 0.9171\n",
      "Epoch 62/150\n",
      "500/500 [==============================] - 195s 390ms/step - loss: 0.1400 - acc: 0.9517 - val_loss: 0.2097 - val_acc: 0.9183\n",
      "Epoch 63/150\n",
      "500/500 [==============================] - 201s 403ms/step - loss: 0.1383 - acc: 0.9524 - val_loss: 0.2110 - val_acc: 0.9168\n",
      "Epoch 64/150\n",
      "500/500 [==============================] - 204s 407ms/step - loss: 0.1380 - acc: 0.9518 - val_loss: 0.1868 - val_acc: 0.9294\n",
      "Epoch 65/150\n",
      "500/500 [==============================] - 210s 420ms/step - loss: 0.1396 - acc: 0.9510 - val_loss: 0.2296 - val_acc: 0.9113\n",
      "Epoch 66/150\n",
      "500/500 [==============================] - 194s 388ms/step - loss: 0.1380 - acc: 0.9520 - val_loss: 0.2302 - val_acc: 0.9167\n",
      "Epoch 67/150\n",
      "500/500 [==============================] - 196s 393ms/step - loss: 0.1383 - acc: 0.9511 - val_loss: 0.2452 - val_acc: 0.9140\n",
      "Epoch 68/150\n",
      "500/500 [==============================] - 196s 393ms/step - loss: 0.1368 - acc: 0.9528 - val_loss: 0.2321 - val_acc: 0.9154\n",
      "Epoch 69/150\n",
      "500/500 [==============================] - 195s 390ms/step - loss: 0.1373 - acc: 0.9520 - val_loss: 0.2473 - val_acc: 0.9134\n",
      "Epoch 70/150\n",
      "500/500 [==============================] - 196s 392ms/step - loss: 0.1370 - acc: 0.9527 - val_loss: 0.2517 - val_acc: 0.9138\n",
      "Epoch 71/150\n",
      "500/500 [==============================] - 195s 390ms/step - loss: 0.1366 - acc: 0.9525 - val_loss: 0.2128 - val_acc: 0.9178\n",
      "Epoch 72/150\n",
      "500/500 [==============================] - 195s 391ms/step - loss: 0.1367 - acc: 0.9531 - val_loss: 0.2403 - val_acc: 0.9158\n",
      "Epoch 73/150\n",
      "500/500 [==============================] - 196s 391ms/step - loss: 0.1361 - acc: 0.9529 - val_loss: 0.2174 - val_acc: 0.9168\n",
      "Epoch 74/150\n",
      "500/500 [==============================] - 196s 391ms/step - loss: 0.1365 - acc: 0.9524 - val_loss: 0.2325 - val_acc: 0.9167\n",
      "Epoch 75/150\n",
      "500/500 [==============================] - 196s 392ms/step - loss: 0.1361 - acc: 0.9526 - val_loss: 0.2221 - val_acc: 0.9168\n",
      "Epoch 76/150\n",
      "500/500 [==============================] - 196s 391ms/step - loss: 0.1354 - acc: 0.9534 - val_loss: 0.2172 - val_acc: 0.9184\n",
      "Epoch 77/150\n",
      "500/500 [==============================] - 196s 392ms/step - loss: 0.1360 - acc: 0.9526 - val_loss: 0.2116 - val_acc: 0.9184\n",
      "Epoch 78/150\n",
      "500/500 [==============================] - 198s 395ms/step - loss: 0.1355 - acc: 0.9530 - val_loss: 0.2063 - val_acc: 0.9179\n",
      "Epoch 79/150\n",
      "500/500 [==============================] - 195s 391ms/step - loss: 0.1346 - acc: 0.9534 - val_loss: 0.1958 - val_acc: 0.9213\n",
      "Epoch 80/150\n",
      "500/500 [==============================] - 196s 391ms/step - loss: 0.1342 - acc: 0.9536 - val_loss: 0.2211 - val_acc: 0.9169\n",
      "Epoch 81/150\n",
      "500/500 [==============================] - 206s 411ms/step - loss: 0.1341 - acc: 0.9535 - val_loss: 0.2222 - val_acc: 0.9170\n",
      "Epoch 82/150\n",
      "500/500 [==============================] - 205s 410ms/step - loss: 0.1347 - acc: 0.9536 - val_loss: 0.2623 - val_acc: 0.9162\n",
      "Epoch 83/150\n",
      "500/500 [==============================] - 205s 410ms/step - loss: 0.1352 - acc: 0.9528 - val_loss: 0.2821 - val_acc: 0.9136\n",
      "Epoch 84/150\n",
      "500/500 [==============================] - 208s 415ms/step - loss: 0.1347 - acc: 0.9533 - val_loss: 0.2202 - val_acc: 0.9189\n",
      "Epoch 85/150\n",
      "500/500 [==============================] - 207s 413ms/step - loss: 0.1345 - acc: 0.9533 - val_loss: 0.2540 - val_acc: 0.9143\n",
      "Epoch 86/150\n",
      "500/500 [==============================] - 207s 414ms/step - loss: 0.1337 - acc: 0.9540 - val_loss: 0.2576 - val_acc: 0.9155\n",
      "Epoch 87/150\n",
      "500/500 [==============================] - 206s 413ms/step - loss: 0.1336 - acc: 0.9538 - val_loss: 0.2157 - val_acc: 0.9198\n",
      "Epoch 88/150\n",
      "500/500 [==============================] - 206s 413ms/step - loss: 0.1338 - acc: 0.9534 - val_loss: 0.1978 - val_acc: 0.9207\n",
      "Epoch 89/150\n",
      "500/500 [==============================] - 205s 409ms/step - loss: 0.1331 - acc: 0.9543 - val_loss: 0.2402 - val_acc: 0.9170\n",
      "Epoch 90/150\n",
      "500/500 [==============================] - 205s 409ms/step - loss: 0.1328 - acc: 0.9540 - val_loss: 0.2535 - val_acc: 0.9175\n",
      "Epoch 91/150\n",
      "500/500 [==============================] - 204s 408ms/step - loss: 0.1336 - acc: 0.9542 - val_loss: 0.2423 - val_acc: 0.9170\n",
      "Epoch 92/150\n",
      "500/500 [==============================] - 205s 410ms/step - loss: 0.1332 - acc: 0.9538 - val_loss: 0.2063 - val_acc: 0.9189\n",
      "Epoch 93/150\n",
      "500/500 [==============================] - 204s 409ms/step - loss: 0.1328 - acc: 0.9538 - val_loss: 0.2064 - val_acc: 0.9197\n",
      "Epoch 94/150\n",
      "500/500 [==============================] - 205s 409ms/step - loss: 0.1328 - acc: 0.9542 - val_loss: 0.2368 - val_acc: 0.9182\n",
      "Epoch 95/150\n",
      "500/500 [==============================] - 205s 409ms/step - loss: 0.1329 - acc: 0.9536 - val_loss: 0.2417 - val_acc: 0.9158\n",
      "Epoch 96/150\n",
      "500/500 [==============================] - 205s 410ms/step - loss: 0.1319 - acc: 0.9546 - val_loss: 0.1876 - val_acc: 0.9249\n",
      "Epoch 97/150\n",
      "500/500 [==============================] - 205s 410ms/step - loss: 0.1324 - acc: 0.9543 - val_loss: 0.2011 - val_acc: 0.9237\n",
      "Epoch 98/150\n",
      "500/500 [==============================] - 205s 411ms/step - loss: 0.1309 - acc: 0.9556 - val_loss: 0.2440 - val_acc: 0.9162\n",
      "Epoch 99/150\n",
      "500/500 [==============================] - 205s 410ms/step - loss: 0.1307 - acc: 0.9546 - val_loss: 0.2608 - val_acc: 0.9144\n",
      "Epoch 100/150\n",
      "500/500 [==============================] - 205s 409ms/step - loss: 0.1309 - acc: 0.9546 - val_loss: 0.2251 - val_acc: 0.9169\n",
      "Epoch 101/150\n",
      "500/500 [==============================] - 205s 409ms/step - loss: 0.1313 - acc: 0.9550 - val_loss: 0.2131 - val_acc: 0.9202\n",
      "Epoch 102/150\n",
      "500/500 [==============================] - 205s 409ms/step - loss: 0.1313 - acc: 0.9546 - val_loss: 0.2334 - val_acc: 0.9178\n",
      "Epoch 103/150\n",
      "500/500 [==============================] - 206s 411ms/step - loss: 0.1313 - acc: 0.9546 - val_loss: 0.2194 - val_acc: 0.9253\n",
      "Epoch 104/150\n",
      "500/500 [==============================] - 205s 410ms/step - loss: 0.1311 - acc: 0.9550 - val_loss: 0.2252 - val_acc: 0.9210\n",
      "Epoch 105/150\n",
      "500/500 [==============================] - 206s 411ms/step - loss: 0.1308 - acc: 0.9548 - val_loss: 0.2381 - val_acc: 0.9166\n",
      "Epoch 106/150\n",
      "500/500 [==============================] - 205s 409ms/step - loss: 0.1309 - acc: 0.9548 - val_loss: 0.2245 - val_acc: 0.9176\n",
      "Time taken for training:  41572.14346933365\n"
     ]
    }
   ],
   "source": [
    "n_most_common_words = 1000\n",
    "model = Sequential()\n",
    "model.add(Embedding(n_most_common_words, emb_dim, input_length=X_train_res.shape[1]))\n",
    "model.add(SpatialDropout1D(0.6))\n",
    "model.add(LSTM(64, dropout=0.6, recurrent_dropout=0.6))\n",
    "\n",
    "model.add(Dense(2, activation='sigmoid'))\n",
    "model.compile(optimizer='adam', loss='binary_crossentropy', metrics=['acc'])\n",
    "print(model.summary())\n",
    "\n",
    "import time\n",
    "start_time = time.time()\n",
    "\n",
    "history = model.fit(X_train_res, ytrainres_cat, epochs=epochs, batch_size=batch_size, validation_split=0.0, validation_data=(X_val_res, yvalres_cat),callbacks=[EarlyStopping(monitor='loss',patience=7, min_delta=0.0001)])\n",
    "end_time = time.time()\n",
    "print('Time taken for training: ', end_time-start_time)"
   ]
  },
  {
   "cell_type": "markdown",
   "metadata": {},
   "source": [
    "### Test and evaluate model accuracy"
   ]
  },
  {
   "cell_type": "code",
   "execution_count": 21,
   "metadata": {},
   "outputs": [
    {
     "name": "stdout",
     "output_type": "stream",
     "text": [
      "1250/1250 [==============================] - 18s 15ms/step - loss: 0.1944 - acc: 0.9376\n",
      "Test set\n",
      "  Loss: 0.1944\n",
      "  Accuracy: 0.9376\n"
     ]
    }
   ],
   "source": [
    "accr = model.evaluate(X_test_res, ytestres_cat)\n",
    "print('Test set\\n  Loss: {:0.4f}\\n  Accuracy: {:0.4f}'.format(accr[0],accr[1]))"
   ]
  },
  {
   "cell_type": "code",
   "execution_count": 22,
   "metadata": {},
   "outputs": [
    {
     "name": "stdout",
     "output_type": "stream",
     "text": [
      "WARNING:tensorflow:From <ipython-input-22-dd9fec068f0c>:1: Sequential.predict_classes (from tensorflow.python.keras.engine.sequential) is deprecated and will be removed after 2021-01-01.\n",
      "Instructions for updating:\n",
      "Please use instead:* `np.argmax(model.predict(x), axis=-1)`,   if your model does multi-class classification   (e.g. if it uses a `softmax` last-layer activation).* `(model.predict(x) > 0.5).astype(\"int32\")`,   if your model does binary classification   (e.g. if it uses a `sigmoid` last-layer activation).\n",
      "1250/1250 [==============================] - 24s 19ms/step\n"
     ]
    }
   ],
   "source": [
    "y_pred = model.predict_classes(X_test_res, batch_size=32, verbose=1)\n",
    "ytest_true = y_test_res"
   ]
  },
  {
   "cell_type": "code",
   "execution_count": 24,
   "metadata": {},
   "outputs": [],
   "source": [
    "from sklearn.metrics import roc_curve\n",
    "fpr_keras, tpr_keras, thresholds_keras = roc_curve(ytest_true, y_pred)\n",
    "from sklearn.metrics import auc\n",
    "auc_keras = auc(fpr_keras, tpr_keras)"
   ]
  },
  {
   "cell_type": "code",
   "execution_count": 25,
   "metadata": {},
   "outputs": [
    {
     "data": {
      "image/png": "[encoded data removed]",
      "text/plain": [
       "<Figure size 432x288 with 1 Axes>"
      ]
     },
     "metadata": {
      "needs_background": "light"
     },
     "output_type": "display_data"
    },
    {
     "data": {
      "image/png": "[encoded data removed]",
      "text/plain": [
       "<Figure size 432x288 with 1 Axes>"
      ]
     },
     "metadata": {
      "needs_background": "light"
     },
     "output_type": "display_data"
    }
   ],
   "source": [
    "plt.figure(1)\n",
    "plt.plot([0, 1], [0, 1], 'k--')\n",
    "plt.plot(fpr_keras, tpr_keras, label=' Area = {:.3f}'.format(auc_keras))\n",
    "plt.xlabel('False positive rate')\n",
    "plt.ylabel('True positive rate')\n",
    "plt.title('ROC curve')\n",
    "plt.legend(loc='best')\n",
    "plt.show()\n",
    "# Zoom in view of the upper left corner.\n",
    "plt.figure(2)\n",
    "plt.xlim(0, 0.2)\n",
    "plt.ylim(0.8, 1)\n",
    "plt.plot([0, 1], [0, 1], 'k--')\n",
    "plt.plot(fpr_keras, tpr_keras, label='Keras (area = {:.3f})'.format(auc_keras))\n",
    "plt.xlabel('False positive rate')\n",
    "plt.ylabel('True positive rate')\n",
    "plt.title('ROC curve (zoomed in at top left)')\n",
    "plt.legend(loc='best')\n",
    "plt.show()"
   ]
  },
  {
   "cell_type": "code",
   "execution_count": 26,
   "metadata": {},
   "outputs": [
    {
     "name": "stdout",
     "output_type": "stream",
     "text": [
      "Average Precision Score: 0.9031\n",
      "\n"
     ]
    }
   ],
   "source": [
    "from sklearn.metrics import average_precision_score\n",
    "\n",
    "average_precision = average_precision_score(ytest_true, y_pred)\n",
    "print('Average Precision Score: {:0.4f}\\n'.format(average_precision))"
   ]
  },
  {
   "cell_type": "code",
   "execution_count": 28,
   "metadata": {},
   "outputs": [
    {
     "name": "stdout",
     "output_type": "stream",
     "text": [
      "Accuracy: 0.937575\n",
      "Recall: 0.95695\n",
      "Precision: 0.921251504211793\n",
      "F1 score: 0.9387614960147149\n",
      "\n",
      " clasification report:\n",
      "               precision    recall  f1-score   support\n",
      "\n",
      "           0       0.96      0.92      0.94     20000\n",
      "           1       0.92      0.96      0.94     20000\n",
      "\n",
      "    accuracy                           0.94     40000\n",
      "   macro avg       0.94      0.94      0.94     40000\n",
      "weighted avg       0.94      0.94      0.94     40000\n",
      "\n",
      "\n",
      " confusion matrix:\n",
      " [[18364  1636]\n",
      " [  861 19139]]\n"
     ]
    }
   ],
   "source": [
    "from sklearn.metrics import precision_score, \\\n",
    "    recall_score, confusion_matrix, classification_report, \\\n",
    "    accuracy_score, f1_score\n",
    "\n",
    "print('Accuracy:', accuracy_score(ytest_true, y_pred))\n",
    "print('Recall:', recall_score(ytest_true, y_pred))\n",
    "print('Precision:', precision_score(ytest_true, y_pred))\n",
    "print('F1 score:', f1_score(ytest_true, y_pred))\n",
    "print('\\n clasification report:\\n', classification_report(ytest_true, y_pred))\n",
    "print('\\n confusion matrix:\\n',confusion_matrix(ytest_true, y_pred))"
   ]
  },
  {
   "cell_type": "code",
   "execution_count": 29,
   "metadata": {},
   "outputs": [
    {
     "data": {
      "text/plain": [
       "<AxesSubplot:xlabel='Predicted', ylabel='Actual'>"
      ]
     },
     "execution_count": 29,
     "metadata": {},
     "output_type": "execute_result"
    },
    {
     "data": {
      "image/png": "[encoded data removed]",
      "text/plain": [
       "<Figure size 720x504 with 2 Axes>"
      ]
     },
     "metadata": {
      "needs_background": "light"
     },
     "output_type": "display_data"
    }
   ],
   "source": [
    "import seaborn as sn\n",
    "df_cm = pd.DataFrame(confusion_matrix(ytest_true, y_pred), columns=np.unique(ytest_true), index = np.unique(ytest_true))\n",
    "df_cm.index.name = 'Actual'\n",
    "df_cm.columns.name = 'Predicted'\n",
    "plt.figure(figsize = (10,7))\n",
    "sn.set(font_scale=1.4)#for label size\n",
    "sn.heatmap(df_cm, cmap=\"Blues\", annot=True,annot_kws={\"size\": 16}, fmt= 'g')# font size"
   ]
  },
  {
   "cell_type": "markdown",
   "metadata": {},
   "source": [
    "# Plot Performance"
   ]
  },
  {
   "cell_type": "code",
   "execution_count": 30,
   "metadata": {
    "scrolled": true
   },
   "outputs": [
    {
     "data": {
      "text/plain": [
       "<matplotlib.legend.Legend at 0x13ec1f3f8c8>"
      ]
     },
     "execution_count": 30,
     "metadata": {},
     "output_type": "execute_result"
    },
    {
     "data": {
      "image/png": "[encoded data removed]",
      "text/plain": [
       "<Figure size 432x288 with 1 Axes>"
      ]
     },
     "metadata": {},
     "output_type": "display_data"
    }
   ],
   "source": [
    "acc = history.history['acc']\n",
    "val_acc = history.history['val_acc']\n",
    "loss = history.history['loss']\n",
    "val_loss = history.history['val_loss']\n",
    "\n",
    "epochs = range(1, len(acc) + 1)\n",
    "\n",
    "fig = plt.figure()\n",
    "plt.xlabel('Epochs')\n",
    "plt.ylabel('Accuracy')\n",
    "plt.plot(epochs, acc, 'bo', label='Training acc')\n",
    "plt.plot(epochs, val_acc, 'b', label='Validation acc')\n",
    "plt.title('Training and validation accuracy')\n",
    "plt.legend()\n",
    "\n",
    "# fig.savefig('clean_train_acc.png',dpi=300)"
   ]
  },
  {
   "cell_type": "code",
   "execution_count": 31,
   "metadata": {},
   "outputs": [
    {
     "data": {
      "image/png": "[encoded data removed]",
      "text/plain": [
       "<Figure size 432x288 with 1 Axes>"
      ]
     },
     "metadata": {},
     "output_type": "display_data"
    }
   ],
   "source": [
    "fig = plt.figure()\n",
    "plt.xlabel('Epochs')\n",
    "plt.ylabel('Loss')\n",
    "plt.plot(epochs, loss, 'bo', label='Training loss')\n",
    "plt.plot(epochs, val_loss, 'b', label='Validation loss')\n",
    "plt.title('Training and validation loss')\n",
    "plt.legend()\n",
    "\n",
    "plt.show()\n",
    "# fig.savefig('clean_train_loss.png',dpi=300)"
   ]
  }
 ],
 "metadata": {
  "kernelspec": {
   "display_name": "Python 3",
   "language": "python",
   "name": "python3"
  },
  "language_info": {
   "codemirror_mode": {
    "name": "ipython",
    "version": 3
   },
   "file_extension": ".py",
   "mimetype": "text/x-python",
   "name": "python",
   "nbconvert_exporter": "python",
   "pygments_lexer": "ipython3",
   "version": "3.7.9"
  }
 },
 "nbformat": 4,
 "nbformat_minor": 2
}
